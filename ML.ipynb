{
 "cells": [
  {
   "cell_type": "code",
   "execution_count": 2,
   "metadata": {},
   "outputs": [
    {
     "name": "stdout",
     "output_type": "stream",
     "text": [
      "\n",
      "The following command must be run outside of the IPython shell:\n",
      "\n",
      "    $ pip install scikit-learn\n",
      "\n",
      "The Python package manager (pip) can only be used from outside of IPython.\n",
      "Please reissue the `pip` command in a separate terminal or command prompt.\n",
      "\n",
      "See the Python documentation for more information on how to install packages:\n",
      "\n",
      "    https://docs.python.org/3/installing/\n"
     ]
    }
   ],
   "source": [
    "pip install scikit-learn"
   ]
  },
  {
   "cell_type": "code",
   "execution_count": 4,
   "metadata": {},
   "outputs": [
    {
     "name": "stdout",
     "output_type": "stream",
     "text": [
      "Requirement already satisfied: scikit-learn in c:\\users\\dissingh\\python\\python37\\lib\\site-packages (0.20.2)\n",
      "Requirement already satisfied: numpy>=1.8.2 in c:\\users\\dissingh\\python\\python37\\lib\\site-packages (from scikit-learn) (1.16.1)\n",
      "Requirement already satisfied: scipy>=0.13.3 in c:\\users\\dissingh\\python\\python37\\lib\\site-packages (from scikit-learn) (1.2.1)\n"
     ]
    }
   ],
   "source": [
    "!pip install scikit-learn"
   ]
  },
  {
   "cell_type": "code",
   "execution_count": 43,
   "metadata": {},
   "outputs": [
    {
     "name": "stdout",
     "output_type": "stream",
     "text": [
      "[2 2 2 0 0 0 0 2 1 2 2 0 0 1 1 1 2 1 0 0 0 2 1 2 0 1 2 0 1 1 2 0 1 1 1 0 0\n",
      " 2 1 1 0 1 1 2 1 0 2 2 1 1 2 1 2 2 0 2 0 2 0 1 2 2 1 0 0 1 0 1 0 0 2 1 1 2\n",
      " 1]\n",
      "[2 2 2 0 0 0 0 2 1 1 1 0 0 1 1 1 2 1 0 0 0 2 1 2 0 1 2 0 1 1 2 0 1 1 1 0 0\n",
      " 2 1 1 0 1 1 2 1 0 2 2 2 1 2 1 2 2 0 2 0 2 0 1 2 2 1 0 0 1 0 1 0 0 2 2 1 2\n",
      " 1]\n",
      "0.9466666666666667\n",
      "75\n"
     ]
    }
   ],
   "source": [
    "from sklearn import datasets\n",
    "iris = datasets.load_iris()\n",
    "x = iris.data\n",
    "y = iris.target\n",
    "\n",
    "from sklearn.model_selection import train_test_split\n",
    "itr, it, otr, ot = train_test_split(x, y, test_size = .5)\n",
    "from sklearn import tree\n",
    "\n",
    "classifier = tree.DecisionTreeClassifier()\n",
    "classifier.fit(itr, otr)\n",
    "\n",
    "predictions = classifier.predict(it)\n",
    "print(predictions)\n",
    "print(ot)\n",
    "\n",
    "from sklearn.metrics import accuracy_score\n",
    "\n",
    "print(accuracy_score(ot, predictions))\n",
    "print(len(ot))"
   ]
  },
  {
   "cell_type": "code",
   "execution_count": 26,
   "metadata": {},
   "outputs": [
    {
     "data": {
      "image/png": "[encoded data removed]",
      "text/plain": [
       "<Figure size 432x288 with 1 Axes>"
      ]
     },
     "metadata": {
      "needs_background": "light"
     },
     "output_type": "display_data"
    }
   ],
   "source": [
    "import matplotlib.pyplot as plt\n",
    "plt.hist([ot, predictions], stacked=True, color=['r', 'g'])\n",
    "plt.show()"
   ]
  },
  {
   "cell_type": "code",
   "execution_count": 63,
   "metadata": {},
   "outputs": [
    {
     "name": "stdout",
     "output_type": "stream",
     "text": [
      "[1, 1, 0, 0, 2, 2, 1, 1, 2, 1, 2, 0, 0, 1, 1, 1, 1, 2, 2, 2, 0, 0, 1, 0, 0, 1, 1, 2, 0, 0, 0, 2, 2, 0, 0, 1, 1, 1, 1, 2, 0, 1, 1, 0, 1, 0, 1, 1, 0, 0, 0, 0, 2, 0, 2, 2, 1, 0, 0, 1, 2, 0, 2, 2, 2, 1, 1, 2, 0, 1, 1, 2, 1, 2, 1]\n",
      "[1 1 0 0 2 2 1 1 2 1 2 0 0 1 1 1 1 2 2 2 0 0 1 0 0 1 1 2 0 0 0 2 2 0 0 1 1\n",
      " 1 1 1 0 1 1 0 2 0 1 1 0 0 0 0 1 0 2 2 1 0 0 1 2 0 2 2 2 1 1 2 0 2 1 2 1 2\n",
      " 1]\n",
      "0.9466666666666667\n"
     ]
    }
   ],
   "source": [
    "# from sklearn.neighbors import KNeighborsClassifier\n",
    "import random\n",
    "from scipy.spatial import distance\n",
    "\n",
    "def euc(a, b):\n",
    "    return distance.euclidean(a, b)\n",
    "\n",
    "\n",
    "class MyScrappyKNN():\n",
    "    def fit(self, train_features, train_labels):\n",
    "        self.xtrain = train_features\n",
    "        self.ytrain = train_labels\n",
    "    \n",
    "    def predict(self, test_features):\n",
    "        predictions = []\n",
    "        \n",
    "        for row in test_features:\n",
    "            label = self.closest(row)\n",
    "            predictions.append(label)\n",
    "        return predictions\n",
    "    \n",
    "    def closest(self, test_point):\n",
    "        best_index = 0\n",
    "        best_distance = euc(self.xtrain[0], test_point)\n",
    "        for i in range(1, len(self.xtrain)):\n",
    "            current_distance = euc(self.xtrain[i], test_point)\n",
    "            if current_distance < best_distance :\n",
    "                best_index = i\n",
    "                best_distance = current_distance\n",
    "        \n",
    "        return self.ytrain[best_index]\n",
    "                \n",
    "        \n",
    "    \n",
    "itr, it, otr, ot = train_test_split(x, y, test_size = .5)\n",
    "classifier = MyScrappyKNN()\n",
    "classifier.fit(itr, otr)\n",
    "\n",
    "predictions = classifier.predict(it)\n",
    "print(predictions)\n",
    "print(ot)\n",
    "\n",
    "from sklearn.metrics import accuracy_score\n",
    "\n",
    "print(accuracy_score(predictions, ot))\n"
   ]
  },
  {
   "cell_type": "code",
   "execution_count": null,
   "metadata": {},
   "outputs": [],
   "source": []
  }
 ],
 "metadata": {
  "kernelspec": {
   "display_name": "Python 3",
   "language": "python",
   "name": "python3"
  },
  "language_info": {
   "codemirror_mode": {
    "name": "ipython",
    "version": 3
   },
   "file_extension": ".py",
   "mimetype": "text/x-python",
   "name": "python",
   "nbconvert_exporter": "python",
   "pygments_lexer": "ipython3",
   "version": "3.7.0"
  }
 },
 "nbformat": 4,
 "nbformat_minor": 2
}
